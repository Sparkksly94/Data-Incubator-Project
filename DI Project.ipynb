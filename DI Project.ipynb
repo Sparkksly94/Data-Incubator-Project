{
 "cells": [
  {
   "cell_type": "code",
   "execution_count": 3,
   "metadata": {},
   "outputs": [],
   "source": [
    "import requests\n",
    "import pprint\n",
    "import json\n",
    "import time\n",
    "def get_api_json(url):\n",
    "    try:\n",
    "        r = requests.get(url, timeout=3)\n",
    "        r_json = r.json()\n",
    "        return r_json\n",
    "    except:\n",
    "        return get_api_json(url)\n",
    "\n",
    "if __name__ == '__main__':\n",
    "    pass"
   ]
  },
  {
   "cell_type": "code",
   "execution_count": 4,
   "metadata": {},
   "outputs": [],
   "source": [
    "#Get IDs of 100 high skill random matches \n",
    "pubmatch_info = get_api_json('https://api.opendota.com/api/publicMatches?key=7b1b6c3c-77eb-4a60-aae6-da813c18b2ab')\n",
    "matchesid=[]\n",
    "for i in range(100):\n",
    "    matchesid.append(pubmatch_info[i]['match_id'])"
   ]
  },
  {
   "cell_type": "code",
   "execution_count": 5,
   "metadata": {},
   "outputs": [],
   "source": [
    "#Retrive detail information of these matches including player's id, heroes id and match result.\n",
    "#Use a 1 dimension vector to record the lineup of each team\n",
    "\n",
    "players=[]\n",
    "for match_id in matchesid:\n",
    "    url='https://api.opendota.com/api/Matches/'+str(match_id)+'?key=7b1b6c3c-77eb-4a60-aae6-da813c18b2ab'\n",
    "    match_info = get_api_json(url)\n",
    "    time.sleep(1)\n",
    "    for player in match_info['players']:\n",
    "        if player['account_id'] is not None:\n",
    "            players.append(player['account_id'])"
   ]
  },
  {
   "cell_type": "code",
   "execution_count": 6,
   "metadata": {},
   "outputs": [],
   "source": [
    "matchesid=[]\n",
    "for i in range(len(players)):\n",
    "    url='https://api.opendota.com/api/players/'+str(players[i])+'/recentMatches?key=7b1b6c3c-77eb-4a60-aae6-da813c18b2ab'\n",
    "    matches_info = get_api_json(url)\n",
    "    time.sleep(2)\n",
    "    for match in matches_info:\n",
    "        matchesid.append(match['match_id'])"
   ]
  },
  {
   "cell_type": "code",
   "execution_count": 183,
   "metadata": {},
   "outputs": [
    {
     "name": "stdout",
     "output_type": "stream",
     "text": [
      "100\n",
      "200\n",
      "300\n",
      "400\n",
      "500\n",
      "600\n",
      "700\n",
      "800\n",
      "900\n",
      "1000\n",
      "1100\n",
      "1200\n",
      "1300\n",
      "1400\n",
      "1500\n",
      "1600\n",
      "1700\n",
      "1800\n",
      "1900\n",
      "2000\n",
      "2100\n",
      "2200\n",
      "2300\n",
      "2400\n",
      "2500\n",
      "2600\n",
      "2700\n",
      "2800\n",
      "2900\n",
      "3000\n",
      "3100\n"
     ]
    },
    {
     "ename": "KeyboardInterrupt",
     "evalue": "",
     "output_type": "error",
     "traceback": [
      "\u001b[1;31m---------------------------------------------------------------------------\u001b[0m",
      "\u001b[1;31mKeyboardInterrupt\u001b[0m                         Traceback (most recent call last)",
      "\u001b[1;32m<ipython-input-183-49486cdfc3ee>\u001b[0m in \u001b[0;36m<module>\u001b[1;34m\u001b[0m\n\u001b[0;32m      7\u001b[0m     \u001b[0murl\u001b[0m\u001b[1;33m=\u001b[0m\u001b[1;34m'https://api.opendota.com/api/Matches/'\u001b[0m\u001b[1;33m+\u001b[0m\u001b[0mstr\u001b[0m\u001b[1;33m(\u001b[0m\u001b[0mmatchesid\u001b[0m\u001b[1;33m[\u001b[0m\u001b[0mi\u001b[0m\u001b[1;33m]\u001b[0m\u001b[1;33m)\u001b[0m\u001b[1;33m+\u001b[0m\u001b[1;34m'?key=7b1b6c3c-77eb-4a60-aae6-da813c18b2ab'\u001b[0m\u001b[1;33m\u001b[0m\u001b[1;33m\u001b[0m\u001b[0m\n\u001b[0;32m      8\u001b[0m     \u001b[0mmatches_info\u001b[0m\u001b[1;33m=\u001b[0m\u001b[0mget_api_json\u001b[0m\u001b[1;33m(\u001b[0m\u001b[0murl\u001b[0m\u001b[1;33m)\u001b[0m\u001b[1;33m\u001b[0m\u001b[1;33m\u001b[0m\u001b[0m\n\u001b[1;32m----> 9\u001b[1;33m     \u001b[0mtime\u001b[0m\u001b[1;33m.\u001b[0m\u001b[0msleep\u001b[0m\u001b[1;33m(\u001b[0m\u001b[1;36m1.8\u001b[0m\u001b[1;33m)\u001b[0m\u001b[1;33m\u001b[0m\u001b[1;33m\u001b[0m\u001b[0m\n\u001b[0m\u001b[0;32m     10\u001b[0m     \u001b[0mprogress\u001b[0m\u001b[1;33m+=\u001b[0m\u001b[1;36m1\u001b[0m\u001b[1;33m\u001b[0m\u001b[1;33m\u001b[0m\u001b[0m\n\u001b[0;32m     11\u001b[0m     \u001b[1;32mif\u001b[0m \u001b[1;32mnot\u001b[0m \u001b[0mprogress\u001b[0m\u001b[1;33m%\u001b[0m\u001b[1;36m100\u001b[0m\u001b[1;33m:\u001b[0m\u001b[1;33m\u001b[0m\u001b[1;33m\u001b[0m\u001b[0m\n",
      "\u001b[1;31mKeyboardInterrupt\u001b[0m: "
     ]
    }
   ],
   "source": [
    "lineups=[]\n",
    "result=[]\n",
    "durations=[]\n",
    "progress=0\n",
    "for i in range(5000):\n",
    "    lineup=[0 for i in range(118)]*2\n",
    "    url='https://api.opendota.com/api/Matches/'+str(matchesid[i])+'?key=7b1b6c3c-77eb-4a60-aae6-da813c18b2ab'\n",
    "    matches_info=get_api_json(url)\n",
    "    time.sleep(1.8)\n",
    "    progress+=1\n",
    "    if not progress%100:\n",
    "        print(progress)\n",
    "    result.append(matches_info['radiant_win'])\n",
    "    durations.append(matches_info['duration'])\n",
    "    for player in matches_info['players']:\n",
    "        hero=player['hero_id']\n",
    "        if hero is None:\n",
    "            continue\n",
    "        else:\n",
    "            if hero==119 or hero==120 or hero==121:\n",
    "                hero=hero-5\n",
    "            elif hero==129:\n",
    "                hero=117\n",
    "            else:\n",
    "                hero-=1\n",
    "            if player['player_slot']<128:\n",
    "                lineup[hero]=1\n",
    "            else:\n",
    "                lineup[hero+118]=1\n",
    "    lineups.append(lineup)"
   ]
  },
  {
   "cell_type": "code",
   "execution_count": 186,
   "metadata": {},
   "outputs": [],
   "source": [
    "import numpy as np\n",
    "lineups=np.array(lineups)\n",
    "y=np.array(result)\n",
    "X_train, X_test, y_train, y_test = train_test_split(lineups, y, test_size=0.3, random_state=0)\n"
   ]
  },
  {
   "cell_type": "code",
   "execution_count": 187,
   "metadata": {},
   "outputs": [],
   "source": [
    "from sklearn.model_selection import train_test_split\n",
    "from sklearn.linear_model import LogisticRegression\n",
    "from sklearn.metrics import confusion_matrix\n",
    "from sklearn.metrics import classification_report"
   ]
  },
  {
   "cell_type": "code",
   "execution_count": 189,
   "metadata": {},
   "outputs": [
    {
     "name": "stdout",
     "output_type": "stream",
     "text": [
      "[[218 225]\n",
      " [176 332]]\n",
      "0.7290909090909091\n"
     ]
    }
   ],
   "source": [
    "classifier = LogisticRegression(random_state=0,solver='lbfgs')\n",
    "classifier.fit(X_train, y_train)\n",
    "y_pred = classifier.predict(X_test)\n",
    "confusionmatrix = confusion_matrix(y_test, y_pred)\n",
    "print(confusionmatrix)\n",
    "accuracy=(176+225)/(218+332)\n",
    "print(accuracy)"
   ]
  },
  {
   "cell_type": "code",
   "execution_count": 228,
   "metadata": {},
   "outputs": [
    {
     "data": {
      "image/png": "[encoded data removed]",
      "text/plain": [
       "<Figure size 432x288 with 1 Axes>"
      ]
     },
     "metadata": {},
     "output_type": "display_data"
    }
   ],
   "source": [
    "import matplotlib.pyplot as plt\n",
    "labels = 'Radiant','Dire'\n",
    "sizes = [sum(y_train)/len(y_train),1-sum(y_train)/len(y_train)]\n",
    "explode = (0, 0.1) \n",
    "fig1, ax1 = plt.subplots()\n",
    "ax1.pie(sizes, explode=explode, labels=labels, autopct='%1.1f%%',\n",
    "        shadow=True, startangle=90)\n",
    "ax1.axis('equal')  # Equal aspect ratio ensures that pie is drawn as a circle.\n",
    "\n",
    "plt.savefig('WinRate.jpg')\n",
    "plt.show()\n"
   ]
  },
  {
   "cell_type": "code",
   "execution_count": 227,
   "metadata": {},
   "outputs": [
    {
     "data": {
      "image/png": "[encoded data removed]",
      "text/plain": [
       "<Figure size 432x288 with 1 Axes>"
      ]
     },
     "metadata": {
      "needs_background": "light"
     },
     "output_type": "display_data"
    }
   ],
   "source": [
    "num_list = np.sum(lineups,axis=0)\n",
    "numlist=[0 for i in range(118)]\n",
    "for i in range(118):\n",
    "    numlist[i]=num_list[i]+num_list[i+118]\n",
    "numlistwin=[0 for i in range(118)]\n",
    "for i in range(118):\n",
    "    numlistwin[i]=sum(lineups[:,i]*y+lineups[:,i+118]*~y)\n",
    "namelist=range(118)\n",
    "Z = zip(numlist,numlistwin,namelist)\n",
    "Z = sorted(Z,reverse=True)\n",
    "numlist,numlistwin,namelist=zip(*Z)\n",
    "plt.bar(range(15), numlist[0:15], width=0.4,label='Pick',fc = 'mistyrose')\n",
    "plt.bar(np.arange(0.4,15.4,1), numlistwin[0:15], width=0.4,tick_label=namelist[0:15], label='Win',fc = 'salmon')\n",
    "plt.xlabel('Hero ID')\n",
    "plt.legend()\n",
    "plt.savefig('WinPick.jpg')\n",
    "plt.show()"
   ]
  },
  {
   "cell_type": "code",
   "execution_count": 226,
   "metadata": {},
   "outputs": [
    {
     "name": "stderr",
     "output_type": "stream",
     "text": [
      "D:\\Anaconda\\lib\\site-packages\\ipykernel_launcher.py:3: RuntimeWarning: divide by zero encountered in true_divide\n",
      "  This is separate from the ipykernel package so we can avoid doing imports until\n"
     ]
    },
    {
     "data": {
      "text/plain": [
       "<function matplotlib.pyplot.show(*args, **kw)>"
      ]
     },
     "execution_count": 226,
     "metadata": {},
     "output_type": "execute_result"
    },
    {
     "data": {
      "image/png": "[encoded data removed]",
      "text/plain": [
       "<Figure size 432x288 with 1 Axes>"
      ]
     },
     "metadata": {
      "needs_background": "light"
     },
     "output_type": "display_data"
    }
   ],
   "source": [
    "durationForHero=[0 for i in range(118)]\n",
    "for i in range(118):\n",
    "    durationForHero[i]=sum(lineups[:,i]*np.array(durations))/numlist[i]\n",
    "heroId=range(118)\n",
    "X = zip(durationForHero,heroId)\n",
    "X = sorted(X,reverse=True,key= lambda t: t[0])\n",
    "durationForHero,heroId = zip(*X)\n",
    "plt.bar(heroId, durationForHero,label='Duration',fc = 'b')\n",
    "plt.xlabel('Hero ID')\n",
    "plt.ylabel('Game Length')\n",
    "plt.legend()\n",
    "plt.savefig('Game Duration')\n",
    "plt.show"
   ]
  }
 ],
 "metadata": {
  "kernelspec": {
   "display_name": "Python 3",
   "language": "python",
   "name": "python3"
  },
  "language_info": {
   "codemirror_mode": {
    "name": "ipython",
    "version": 3
   },
   "file_extension": ".py",
   "mimetype": "text/x-python",
   "name": "python",
   "nbconvert_exporter": "python",
   "pygments_lexer": "ipython3",
   "version": "3.7.3"
  }
 },
 "nbformat": 4,
 "nbformat_minor": 2
}
