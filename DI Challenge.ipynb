{
 "cells": [
  {
   "cell_type": "code",
   "execution_count": 2,
   "metadata": {},
   "outputs": [],
   "source": [
    "import numpy as np\n",
    "import matplotlib.pyplot as plt\n",
    "import pandas as pd\n",
    "df = pd.read_csv('Parking_Citations.csv',low_memory=False)"
   ]
  },
  {
   "cell_type": "code",
   "execution_count": 4,
   "metadata": {},
   "outputs": [],
   "source": [
    "#Remove data after 2019\n",
    "df = df.dropna(subset=[\"ViolDate\"])\n",
    "df['ViolDate']=pd.to_datetime(df['ViolDate'],format='%m/%d/%Y %I:%M:%S %p')\n",
    "df['ViolDate']=df['ViolDate'].dt.date\n",
    "df['ViolDate']=pd.to_datetime(df['ViolDate'])\n",
    "df=df[df['ViolDate']<pd.datetime(2019,1,1)]\n"
   ]
  },
  {
   "cell_type": "code",
   "execution_count": 307,
   "metadata": {},
   "outputs": [
    {
     "data": {
      "text/plain": [
       "49.16334749156403"
      ]
     },
     "execution_count": 307,
     "metadata": {},
     "output_type": "execute_result"
    }
   ],
   "source": [
    "#Q1(a)\n",
    "df['ViolFine'].mean()"
   ]
  },
  {
   "cell_type": "code",
   "execution_count": 200,
   "metadata": {},
   "outputs": [
    {
     "data": {
      "text/plain": [
       "480.0"
      ]
     },
     "execution_count": 200,
     "metadata": {},
     "output_type": "execute_result"
    }
   ],
   "source": [
    "#Q1(b)\n",
    "num=df[df['OpenPenalty']!=0]['OpenPenalty'].count()\n",
    "df[df['OpenPenalty']!=0].sort_values(by='OpenPenalty',ascending=False,inplace=False).reset_index()['OpenPenalty'][round(num*0.81)]\n",
    "df[df['OpenPenalty']!=0]['OpenPenalty'].quantile(0.81)"
   ]
  },
  {
   "cell_type": "code",
   "execution_count": 5,
   "metadata": {},
   "outputs": [
    {
     "data": {
      "text/plain": [
       "PoliceDistrict\n",
       "central         44.607645942256\n",
       "eastern         50.597735455751\n",
       "northeastern    60.911735781020\n",
       "northern        47.774968225299\n",
       "northwestern    59.569723668402\n",
       "southeastern    48.011072217298\n",
       "southern        53.766352704018\n",
       "southwestern    58.415215989684\n",
       "western         53.328438515861\n",
       "Name: ViolFine, dtype: float64"
      ]
     },
     "execution_count": 5,
     "metadata": {},
     "output_type": "execute_result"
    }
   ],
   "source": [
    "#Q1(c)\n",
    "pd.set_option('precision', 12)\n",
    "df['PoliceDistrict']=df['PoliceDistrict'].str.lower()\n",
    "df.loc[df['PoliceDistrict']=='notheastern','PoliceDistrict']='northeastern'\n",
    "grouped=df[df['PoliceDistrict'].notnull()]['ViolFine'].groupby(df['PoliceDistrict']).mean()\n",
    "grouped"
   ]
  },
  {
   "cell_type": "code",
   "execution_count": 8,
   "metadata": {},
   "outputs": [
    {
     "name": "stderr",
     "output_type": "stream",
     "text": [
      "D:\\Anaconda\\lib\\site-packages\\ipykernel_launcher.py:2: UserWarning: Boolean Series key will be reindexed to match DataFrame index.\n",
      "  \n"
     ]
    },
    {
     "data": {
      "text/plain": [
       "0.37249111431619497"
      ]
     },
     "execution_count": 8,
     "metadata": {},
     "output_type": "execute_result"
    }
   ],
   "source": [
    "#Q1(d)\n",
    "df2017=df[pd.datetime(2016,12,31)<df['ViolDate']]\n",
    "df2017=df2017[df['ViolDate']<pd.datetime(2018,1,1)]\n",
    "df2017['Make']=df2017['Make'].str.slice(0,4)\n",
    "df2017.loc[df2017['Make']=='TOYT','Make']='TOYO'\n",
    "df2017['Make'].value_counts()\n",
    "\n",
    "#JP Cars: HOND TOYO ACUR NISSA\n",
    "result=(70417+68588+17343+50005)/df2017.shape[0]\n",
    "result"
   ]
  },
  {
   "cell_type": "code",
   "execution_count": 214,
   "metadata": {},
   "outputs": [
    {
     "name": "stderr",
     "output_type": "stream",
     "text": [
      "D:\\Anaconda\\lib\\site-packages\\ipykernel_launcher.py:2: UserWarning: Boolean Series key will be reindexed to match DataFrame index.\n",
      "  \n"
     ]
    }
   ],
   "source": [
    "#Q1(e)\n",
    "df2004_2014=df[pd.datetime(2003,12,31)<df['ViolDate']]\n",
    "df2004_2014=df2004_2014[df['ViolDate']<pd.datetime(2015,1,1)]\n",
    "from sklearn.linear_model import LinearRegression\n",
    "df2004_2014['ViolDate']=df2004_2014['ViolDate'].dt.year\n",
    "citations=df2004_2014['ViolDate'].groupby(df2004_2014['ViolDate']).count().tolist()\n",
    "year=[2004+i for i in range(11)]\n",
    "year=np.array(year)\n",
    "citations=np.array(citations)\n",
    "plt.scatter(year, citations, alpha=0.6)\n",
    "plt.show()"
   ]
  },
  {
   "cell_type": "code",
   "execution_count": 298,
   "metadata": {},
   "outputs": [
    {
     "data": {
      "text/plain": [
       "0.5310721258018817"
      ]
     },
     "execution_count": 298,
     "metadata": {},
     "output_type": "execute_result"
    }
   ],
   "source": [
    "lrModel = LinearRegression()\n",
    "x = year.reshape(-1,1)\n",
    "y = citations\n",
    "lrModel.fit(x,y)\n",
    "lrModel.score(x,y)\n",
    "alpha = lrModel.intercept_[0]\n",
    "print(alpha)\n",
    "beta = lrModel.coef_[0][0]\n",
    "print(beta)"
   ]
  },
  {
   "cell_type": "code",
   "execution_count": 308,
   "metadata": {},
   "outputs": [
    {
     "ename": "NameError",
     "evalue": "name 'dfCrime_columns' is not defined",
     "output_type": "error",
     "traceback": [
      "\u001b[1;31m---------------------------------------------------------------------------\u001b[0m",
      "\u001b[1;31mNameError\u001b[0m                                 Traceback (most recent call last)",
      "\u001b[1;32m<ipython-input-308-b3a45fbb7f12>\u001b[0m in \u001b[0;36m<module>\u001b[1;34m\u001b[0m\n\u001b[0;32m      1\u001b[0m \u001b[0mdfCrime\u001b[0m \u001b[1;33m=\u001b[0m \u001b[0mpd\u001b[0m\u001b[1;33m.\u001b[0m\u001b[0mread_csv\u001b[0m\u001b[1;33m(\u001b[0m\u001b[1;34m'Crime_Data.csv'\u001b[0m\u001b[1;33m,\u001b[0m\u001b[0mlow_memory\u001b[0m\u001b[1;33m=\u001b[0m\u001b[1;32mFalse\u001b[0m\u001b[1;33m)\u001b[0m\u001b[1;33m\u001b[0m\u001b[1;33m\u001b[0m\u001b[0m\n\u001b[1;32m----> 2\u001b[1;33m \u001b[0mdfCrime_columns\u001b[0m\u001b[1;33m.\u001b[0m\u001b[0mvalues\u001b[0m\u001b[1;33m\u001b[0m\u001b[1;33m\u001b[0m\u001b[0m\n\u001b[0m",
      "\u001b[1;31mNameError\u001b[0m: name 'dfCrime_columns' is not defined"
     ]
    }
   ],
   "source": []
  },
  {
   "cell_type": "code",
   "execution_count": 355,
   "metadata": {},
   "outputs": [
    {
     "name": "stderr",
     "output_type": "stream",
     "text": [
      "D:\\Anaconda\\lib\\site-packages\\ipykernel_launcher.py:3: UserWarning: Boolean Series key will be reindexed to match DataFrame index.\n",
      "  This is separate from the ipykernel package so we can avoid doing imports until\n",
      "D:\\Anaconda\\lib\\site-packages\\ipykernel_launcher.py:5: UserWarning: Boolean Series key will be reindexed to match DataFrame index.\n",
      "  \"\"\"\n",
      "D:\\Anaconda\\lib\\site-packages\\ipykernel_launcher.py:6: UserWarning: Boolean Series key will be reindexed to match DataFrame index.\n",
      "  \n"
     ]
    }
   ],
   "source": [
    "#Q1(f)\n",
    "dfCrime = pd.read_csv('Crime_Data.csv',low_memory=False)\n",
    "dfCrime['CrimeDate']=pd.to_datetime(dfCrime['CrimeDate'],format='%m/%d/%Y')\n",
    "df2015=df[pd.datetime(2014,12,31)<df['ViolDate']]\n",
    "df2015=df2015[df['ViolDate']<pd.datetime(2016,1,1)]\n",
    "dfCrime2015=dfCrime[pd.datetime(2014,12,31)<dfCrime['CrimeDate']]\n",
    "dfCrime2015=dfCrime2015[dfCrime['CrimeDate']<pd.datetime(2016,1,1)]\n",
    "dfCrime2015=dfCrime2015[dfCrime['Description']=='AUTO THEFT']\n",
    "df2015['PoliceDistrict']=df2015['PoliceDistrict'].str.lower()\n",
    "df2015.loc[df2015['PoliceDistrict']=='notheastern','PoliceDistrict']='northeastern'\n",
    "Citation=df2015['PoliceDistrict'].value_counts().sort_index().tolist()"
   ]
  },
  {
   "cell_type": "code",
   "execution_count": 368,
   "metadata": {},
   "outputs": [
    {
     "data": {
      "text/plain": [
       "[0.02480593992575093,\n",
       " 0.10752,\n",
       " 0.19970810021892482,\n",
       " 0.051950761527227204,\n",
       " 0.3275563258232236,\n",
       " 0.03297510179560777,\n",
       " 0.036467557559169216,\n",
       " 0.21340996168582377,\n",
       " 0.2184602982668279]"
      ]
     },
     "execution_count": 368,
     "metadata": {},
     "output_type": "execute_result"
    }
   ],
   "source": [
    "Crime=dfCrime2015['District'].value_counts().sort_index().tolist()\n",
    "Crime.remove(3)\n",
    "ratio=[Crime[i]/Citation[i] for i in range(len(Crime))]\n",
    "ratio"
   ]
  },
  {
   "cell_type": "code",
   "execution_count": 2,
   "metadata": {},
   "outputs": [],
   "source": [
    "#Q2(a)\n",
    "#Classic BFS\n",
    "def knightmove(n,a,b):\n",
    "    steps=[[-1 for x in range(n)] for x in range(n)]\n",
    "    steps[0][0]=0\n",
    "    queue=[[0,0]]\n",
    "    \n",
    "#Explore all the possible next moves\n",
    "    dx=[a,a,-a,-a,b,b,-b,-b]\n",
    "    dy=[b,-b,b,-b,a,-a,a,-a]\n",
    "    while queue:\n",
    "        cur=queue.pop()\n",
    "        p=cur[0]\n",
    "        q=cur[1]\n",
    "        step=steps[p][q]\n",
    "        for i in range(8):\n",
    "            x=p+dx[i]\n",
    "            y=q+dy[i]\n",
    "            if x<0 or x>=n or y<0 or y>=n:\n",
    "                continue\n",
    "            elif x==n-1 and y==n-1:\n",
    "                #Reach the destination, return the result\n",
    "                steps[x][y]=step+1\n",
    "                return step+1\n",
    "            else:\n",
    "                if steps[x][y]!=-1:\n",
    "                    continue\n",
    "                else:\n",
    "                    steps[x][y]=step+1\n",
    "                    #Save the new discovred point\n",
    "                    queue.insert(0,[x,y])\n",
    "            "
   ]
  },
  {
   "cell_type": "code",
   "execution_count": 3,
   "metadata": {},
   "outputs": [
    {
     "name": "stdout",
     "output_type": "stream",
     "text": [
      "list finish\n"
     ]
    },
    {
     "data": {
      "text/plain": [
       "127"
      ]
     },
     "execution_count": 3,
     "metadata": {},
     "output_type": "execute_result"
    }
   ],
   "source": [
    "knightmove(10000,73,101)"
   ]
  },
  {
   "cell_type": "code",
   "execution_count": 62,
   "metadata": {},
   "outputs": [],
   "source": [
    "#Q2(b)\n",
    "def knightmove2(n):\n",
    "    sum=0\n",
    "    ip=[]\n",
    "    for b in range(1,n):\n",
    "        for a in range(1,b+1):\n",
    "            steps=[[-1 for x in range(n)] for x in range(n)]\n",
    "            steps[0][0]=0\n",
    "            queue=[[0,0]]\n",
    "            notFound=True\n",
    "            dx=[a,a,-a,-a,b,b,-b,-b]\n",
    "            dy=[b,-b,b,-b,a,-a,a,-a]\n",
    "            while queue and notFound:\n",
    "                cur=queue.pop()\n",
    "                p=cur[0]\n",
    "                q=cur[1]\n",
    "                step=steps[p][q]\n",
    "                for i in range(8):\n",
    "                    x=p+dx[i]\n",
    "                    y=q+dy[i]\n",
    "                    if x<0 or x>=n or y<0 or y>=n:\n",
    "                        continue\n",
    "                    elif x==n-1 and y==n-1:\n",
    "                        steps[n-1][n-1]=step+1\n",
    "                        notFound=False\n",
    "                        break\n",
    "                    else:\n",
    "                        if steps[x][y]!=-1:\n",
    "                            continue\n",
    "                        else:\n",
    "                            steps[x][y]=step+1\n",
    "                            queue.insert(0,[x,y])\n",
    "            if notFound:\n",
    "                sum+=1\n",
    "                ip.append([a,b])\n",
    "    return sum"
   ]
  },
  {
   "cell_type": "code",
   "execution_count": 64,
   "metadata": {},
   "outputs": [
    {
     "data": {
      "text/plain": [
       "130"
      ]
     },
     "execution_count": 64,
     "metadata": {},
     "output_type": "execute_result"
    }
   ],
   "source": [
    "knightmove2(25)"
   ]
  },
  {
   "cell_type": "code",
   "execution_count": 11,
   "metadata": {},
   "outputs": [],
   "source": [
    "#Q2(c)\n",
    "def knightmove3(n):\n",
    "    sum=0\n",
    "    for b in range(1,n):\n",
    "        for a in range(1,b+1):\n",
    "            steps=[[-1 for x in range(n)] for x in range(n)]\n",
    "            steps[0][0]=0\n",
    "            queue=[[0,0]]\n",
    "            notFound=True\n",
    "            dx=[a,a,-a,-a,b,b,-b,-b]\n",
    "            dy=[b,-b,b,-b,a,-a,a,-a]\n",
    "            while queue and notFound:\n",
    "                cur=queue.pop()\n",
    "                p=cur[0]\n",
    "                q=cur[1]\n",
    "                step=steps[p][q]\n",
    "                for i in range(8):\n",
    "                    x=p+dx[i]\n",
    "                    y=q+dy[i]\n",
    "                    if x<0 or x>=n or y<0 or y>=n:\n",
    "                        continue\n",
    "                    elif x==n-1 and y==n-1:\n",
    "                        steps[n-1][n-1]=step+1\n",
    "                        notFound=False\n",
    "                        break\n",
    "                    else:\n",
    "                        if steps[x][y]!=-1:\n",
    "                            continue\n",
    "                        else:\n",
    "                            steps[x][y]=step+1\n",
    "                            queue.insert(0,[x,y])\n",
    "            if not notFound:\n",
    "                sum+=steps[n-1][n-1]\n",
    "    return sum"
   ]
  },
  {
   "cell_type": "code",
   "execution_count": 12,
   "metadata": {},
   "outputs": [
    {
     "data": {
      "text/plain": [
       "1967"
      ]
     },
     "execution_count": 12,
     "metadata": {},
     "output_type": "execute_result"
    }
   ],
   "source": [
    "knightmove3(25)"
   ]
  }
 ],
 "metadata": {
  "kernelspec": {
   "display_name": "Python 3",
   "language": "python",
   "name": "python3"
  },
  "language_info": {
   "codemirror_mode": {
    "name": "ipython",
    "version": 3
   },
   "file_extension": ".py",
   "mimetype": "text/x-python",
   "name": "python",
   "nbconvert_exporter": "python",
   "pygments_lexer": "ipython3",
   "version": "3.7.3"
  }
 },
 "nbformat": 4,
 "nbformat_minor": 2
}
